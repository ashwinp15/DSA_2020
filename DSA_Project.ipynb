{
 "cells": [
  {
   "cell_type": "code",
   "execution_count": 80,
   "metadata": {},
   "outputs": [],
   "source": [
    "import pandas as pd\n",
    "import numpy as np\n",
    "df = pd.read_csv('SDSS_quasar.dat', delimiter='\\s+')\n",
    "data = np.array(df[['z', 'u_mag']])\n",
    "z = data[:, 0]\n",
    "u_mag = data[:, 1]"
   ]
  },
  {
   "cell_type": "code",
   "execution_count": 79,
   "metadata": {
    "scrolled": true
   },
   "outputs": [
    {
     "data": {
      "text/html": [
       "<div>\n",
       "<style scoped>\n",
       "    .dataframe tbody tr th:only-of-type {\n",
       "        vertical-align: middle;\n",
       "    }\n",
       "\n",
       "    .dataframe tbody tr th {\n",
       "        vertical-align: top;\n",
       "    }\n",
       "\n",
       "    .dataframe thead th {\n",
       "        text-align: right;\n",
       "    }\n",
       "</style>\n",
       "<table border=\"1\" class=\"dataframe\">\n",
       "  <thead>\n",
       "    <tr style=\"text-align: right;\">\n",
       "      <th></th>\n",
       "      <th>SDSS_J</th>\n",
       "      <th>R.A.</th>\n",
       "      <th>Dec.</th>\n",
       "      <th>z</th>\n",
       "      <th>u_mag</th>\n",
       "      <th>sig_u</th>\n",
       "      <th>g_mag</th>\n",
       "      <th>sig_g</th>\n",
       "      <th>r_mag</th>\n",
       "      <th>sig_r</th>\n",
       "      <th>...</th>\n",
       "      <th>sig_z</th>\n",
       "      <th>Radio</th>\n",
       "      <th>X-ray</th>\n",
       "      <th>J_mag</th>\n",
       "      <th>sig_J</th>\n",
       "      <th>H_mag</th>\n",
       "      <th>sig_H</th>\n",
       "      <th>K_mag</th>\n",
       "      <th>sig_K</th>\n",
       "      <th>M_i</th>\n",
       "    </tr>\n",
       "  </thead>\n",
       "  <tbody>\n",
       "    <tr>\n",
       "      <th>0</th>\n",
       "      <td>000009.26+151754.5</td>\n",
       "      <td>0.038605</td>\n",
       "      <td>15.298476</td>\n",
       "      <td>1.1986</td>\n",
       "      <td>19.921</td>\n",
       "      <td>0.042</td>\n",
       "      <td>19.811</td>\n",
       "      <td>0.036</td>\n",
       "      <td>19.386</td>\n",
       "      <td>0.017</td>\n",
       "      <td>...</td>\n",
       "      <td>0.069</td>\n",
       "      <td>-1.0</td>\n",
       "      <td>-9.00</td>\n",
       "      <td>0.000</td>\n",
       "      <td>0.000</td>\n",
       "      <td>0.00</td>\n",
       "      <td>0.000</td>\n",
       "      <td>0.000</td>\n",
       "      <td>0.000</td>\n",
       "      <td>-25.085</td>\n",
       "    </tr>\n",
       "    <tr>\n",
       "      <th>1</th>\n",
       "      <td>000009.38+135618.4</td>\n",
       "      <td>0.039088</td>\n",
       "      <td>13.938447</td>\n",
       "      <td>2.2400</td>\n",
       "      <td>19.218</td>\n",
       "      <td>0.026</td>\n",
       "      <td>18.893</td>\n",
       "      <td>0.022</td>\n",
       "      <td>18.445</td>\n",
       "      <td>0.018</td>\n",
       "      <td>...</td>\n",
       "      <td>0.033</td>\n",
       "      <td>-1.0</td>\n",
       "      <td>-9.00</td>\n",
       "      <td>0.000</td>\n",
       "      <td>0.000</td>\n",
       "      <td>0.00</td>\n",
       "      <td>0.000</td>\n",
       "      <td>0.000</td>\n",
       "      <td>0.000</td>\n",
       "      <td>-27.419</td>\n",
       "    </tr>\n",
       "    <tr>\n",
       "      <th>2</th>\n",
       "      <td>000009.42-102751.9</td>\n",
       "      <td>0.039269</td>\n",
       "      <td>-10.464428</td>\n",
       "      <td>1.8442</td>\n",
       "      <td>19.249</td>\n",
       "      <td>0.036</td>\n",
       "      <td>19.029</td>\n",
       "      <td>0.027</td>\n",
       "      <td>18.980</td>\n",
       "      <td>0.021</td>\n",
       "      <td>...</td>\n",
       "      <td>0.047</td>\n",
       "      <td>0.0</td>\n",
       "      <td>-9.00</td>\n",
       "      <td>0.000</td>\n",
       "      <td>0.000</td>\n",
       "      <td>0.00</td>\n",
       "      <td>0.000</td>\n",
       "      <td>0.000</td>\n",
       "      <td>0.000</td>\n",
       "      <td>-26.459</td>\n",
       "    </tr>\n",
       "    <tr>\n",
       "      <th>3</th>\n",
       "      <td>000011.41+145545.6</td>\n",
       "      <td>0.047547</td>\n",
       "      <td>14.929353</td>\n",
       "      <td>0.4596</td>\n",
       "      <td>19.637</td>\n",
       "      <td>0.030</td>\n",
       "      <td>19.466</td>\n",
       "      <td>0.024</td>\n",
       "      <td>19.362</td>\n",
       "      <td>0.022</td>\n",
       "      <td>...</td>\n",
       "      <td>0.047</td>\n",
       "      <td>-1.0</td>\n",
       "      <td>-9.00</td>\n",
       "      <td>0.000</td>\n",
       "      <td>0.000</td>\n",
       "      <td>0.00</td>\n",
       "      <td>0.000</td>\n",
       "      <td>0.000</td>\n",
       "      <td>0.000</td>\n",
       "      <td>-22.728</td>\n",
       "    </tr>\n",
       "    <tr>\n",
       "      <th>4</th>\n",
       "      <td>000011.96+000225.3</td>\n",
       "      <td>0.049842</td>\n",
       "      <td>0.040372</td>\n",
       "      <td>0.4790</td>\n",
       "      <td>18.237</td>\n",
       "      <td>0.028</td>\n",
       "      <td>17.971</td>\n",
       "      <td>0.020</td>\n",
       "      <td>18.025</td>\n",
       "      <td>0.019</td>\n",
       "      <td>...</td>\n",
       "      <td>0.029</td>\n",
       "      <td>0.0</td>\n",
       "      <td>-1.66</td>\n",
       "      <td>16.651</td>\n",
       "      <td>0.136</td>\n",
       "      <td>15.82</td>\n",
       "      <td>0.149</td>\n",
       "      <td>14.821</td>\n",
       "      <td>0.111</td>\n",
       "      <td>-24.046</td>\n",
       "    </tr>\n",
       "  </tbody>\n",
       "</table>\n",
       "<p>5 rows × 23 columns</p>\n",
       "</div>"
      ],
      "text/plain": [
       "               SDSS_J      R.A.       Dec.       z   u_mag  sig_u   g_mag  \\\n",
       "0  000009.26+151754.5  0.038605  15.298476  1.1986  19.921  0.042  19.811   \n",
       "1  000009.38+135618.4  0.039088  13.938447  2.2400  19.218  0.026  18.893   \n",
       "2  000009.42-102751.9  0.039269 -10.464428  1.8442  19.249  0.036  19.029   \n",
       "3  000011.41+145545.6  0.047547  14.929353  0.4596  19.637  0.030  19.466   \n",
       "4  000011.96+000225.3  0.049842   0.040372  0.4790  18.237  0.028  17.971   \n",
       "\n",
       "   sig_g   r_mag  sig_r  ...  sig_z  Radio  X-ray   J_mag  sig_J  H_mag  \\\n",
       "0  0.036  19.386  0.017  ...  0.069   -1.0  -9.00   0.000  0.000   0.00   \n",
       "1  0.022  18.445  0.018  ...  0.033   -1.0  -9.00   0.000  0.000   0.00   \n",
       "2  0.027  18.980  0.021  ...  0.047    0.0  -9.00   0.000  0.000   0.00   \n",
       "3  0.024  19.362  0.022  ...  0.047   -1.0  -9.00   0.000  0.000   0.00   \n",
       "4  0.020  18.025  0.019  ...  0.029    0.0  -1.66  16.651  0.136  15.82   \n",
       "\n",
       "   sig_H   K_mag  sig_K     M_i  \n",
       "0  0.000   0.000  0.000 -25.085  \n",
       "1  0.000   0.000  0.000 -27.419  \n",
       "2  0.000   0.000  0.000 -26.459  \n",
       "3  0.000   0.000  0.000 -22.728  \n",
       "4  0.149  14.821  0.111 -24.046  \n",
       "\n",
       "[5 rows x 23 columns]"
      ]
     },
     "execution_count": 79,
     "metadata": {},
     "output_type": "execute_result"
    }
   ],
   "source": [
    "df.head()"
   ]
  },
  {
   "cell_type": "code",
   "execution_count": 89,
   "metadata": {},
   "outputs": [
    {
     "data": {
      "text/plain": [
       "<matplotlib.collections.PathCollection at 0x7fa235580f10>"
      ]
     },
     "execution_count": 89,
     "metadata": {},
     "output_type": "execute_result"
    },
    {
     "data": {
      "image/png": "[encoded data removed]",
      "text/plain": [
       "<Figure size 432x288 with 1 Axes>"
      ]
     },
     "metadata": {
      "needs_background": "light"
     },
     "output_type": "display_data"
    }
   ],
   "source": [
    "import matplotlib.pyplot as plt\n",
    "fig, ax = plt.subplots()\n",
    "ax.scatter(z, np.array(df['g_mag']), s=2)"
   ]
  },
  {
   "cell_type": "code",
   "execution_count": 72,
   "metadata": {},
   "outputs": [],
   "source": [
    "def bootstrap_resample(X, n):\n",
    "    resample_i = np.floor(np.random.rand(n)*len(X)).astype(int)\n",
    "    X_resample = X[resample_i]\n",
    "    return X_resample"
   ]
  },
  {
   "cell_type": "code",
   "execution_count": 73,
   "metadata": {},
   "outputs": [],
   "source": [
    "from scipy.stats import spearmanr as spr\n",
    "corr_samples = np.empty(shape=(1500, 1))"
   ]
  },
  {
   "cell_type": "code",
   "execution_count": 74,
   "metadata": {},
   "outputs": [],
   "source": [
    "for i in range(1500):\n",
    "    resample = bootstrap_resample(data, n=1500)\n",
    "    rho, pval = spr(resample)\n",
    "    corr_samples[i] = rho"
   ]
  },
  {
   "cell_type": "code",
   "execution_count": 75,
   "metadata": {},
   "outputs": [
    {
     "data": {
      "text/plain": [
       "array([[0.35749316],\n",
       "       [0.41113193],\n",
       "       [0.33778325],\n",
       "       ...,\n",
       "       [0.34476234],\n",
       "       [0.36236818],\n",
       "       [0.39542631]])"
      ]
     },
     "execution_count": 75,
     "metadata": {},
     "output_type": "execute_result"
    }
   ],
   "source": [
    "corr_samples"
   ]
  },
  {
   "cell_type": "code",
   "execution_count": 67,
   "metadata": {},
   "outputs": [
    {
     "data": {
      "text/plain": [
       "SpearmanrResult(correlation=0.02584813562412416, pvalue=0.17784135169696613)"
      ]
     },
     "execution_count": 67,
     "metadata": {},
     "output_type": "execute_result"
    }
   ],
   "source": [
    "spr(data)"
   ]
  },
  {
   "cell_type": "code",
   "execution_count": 76,
   "metadata": {},
   "outputs": [
    {
     "data": {
      "text/plain": [
       "(array([  1.,   1.,   4.,   7.,  12.,  32.,  37.,  57.,  93., 110., 118.,\n",
       "        168., 135., 172., 128., 117., 110.,  72.,  56.,  33.,  22.,   8.,\n",
       "          3.,   1.,   3.]),\n",
       " array([0.25107504, 0.25943657, 0.26779809, 0.27615962, 0.28452115,\n",
       "        0.29288267, 0.3012442 , 0.30960573, 0.31796726, 0.32632878,\n",
       "        0.33469031, 0.34305184, 0.35141336, 0.35977489, 0.36813642,\n",
       "        0.37649794, 0.38485947, 0.393221  , 0.40158253, 0.40994405,\n",
       "        0.41830558, 0.42666711, 0.43502863, 0.44339016, 0.45175169,\n",
       "        0.46011322]),\n",
       " <a list of 25 Patch objects>)"
      ]
     },
     "execution_count": 76,
     "metadata": {},
     "output_type": "execute_result"
    },
    {
     "data": {
      "image/png": "[encoded data removed]",
      "text/plain": [
       "<Figure size 432x288 with 1 Axes>"
      ]
     },
     "metadata": {
      "needs_background": "light"
     },
     "output_type": "display_data"
    }
   ],
   "source": [
    "plt.hist(corr_samples, bins = 25)"
   ]
  }
 ],
 "metadata": {
  "kernelspec": {
   "display_name": "Python 3",
   "language": "python",
   "name": "python3"
  },
  "language_info": {
   "codemirror_mode": {
    "name": "ipython",
    "version": 3
   },
   "file_extension": ".py",
   "mimetype": "text/x-python",
   "name": "python",
   "nbconvert_exporter": "python",
   "pygments_lexer": "ipython3",
   "version": "3.7.6"
  }
 },
 "nbformat": 4,
 "nbformat_minor": 2
}
